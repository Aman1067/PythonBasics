{
 "cells": [
  {
   "cell_type": "markdown",
   "id": "98f4a435",
   "metadata": {},
   "source": [
    "1. Write a Python Program to Find LCM?"
   ]
  },
  {
   "cell_type": "code",
   "execution_count": 4,
   "id": "c92b4513",
   "metadata": {},
   "outputs": [
    {
     "name": "stdout",
     "output_type": "stream",
     "text": [
      "Enter first number: 8\n",
      "Enter second number: 6\n",
      "LCM of two numbers is 24\n"
     ]
    }
   ],
   "source": [
    "a=int(input('Enter first number: '))\n",
    "b=int(input('Enter second number: '))\n",
    "maxnum=max(a,b)\n",
    "while True:\n",
    "    if (maxnum%a==0 and maxnum%b==0):\n",
    "        break\n",
    "    maxnum=maxnum+1\n",
    "print(f'LCM of two numbers is {maxnum}')"
   ]
  },
  {
   "cell_type": "markdown",
   "id": "fab149eb",
   "metadata": {},
   "source": [
    "2. Write a Python Program to Find HCF?"
   ]
  },
  {
   "cell_type": "code",
   "execution_count": 2,
   "id": "10b160ea",
   "metadata": {},
   "outputs": [
    {
     "name": "stdout",
     "output_type": "stream",
     "text": [
      "Enter number 1: 9\n",
      "Enter number 2: 6\n",
      "HCF of two numbers is 3\n"
     ]
    }
   ],
   "source": [
    "a=int(input('Enter number 1: '))\n",
    "b=int(input('Enter number 2: '))\n",
    "if a>b:\n",
    "    mn=b\n",
    "else:\n",
    "    mn=a\n",
    "for i in range(1,mn+1):\n",
    "    if a%i==0 and b%i==0:\n",
    "        hcf=i\n",
    "print(f'HCF of two numbers is {hcf}')"
   ]
  },
  {
   "cell_type": "markdown",
   "id": "684a22f3",
   "metadata": {},
   "source": [
    "3. Write a Python Program to Convert Decimal to Binary, Octal and Hexadecimal?"
   ]
  },
  {
   "cell_type": "code",
   "execution_count": 5,
   "id": "831aec9d",
   "metadata": {},
   "outputs": [
    {
     "name": "stdout",
     "output_type": "stream",
     "text": [
      "enter number: 9\n",
      "The coversion of decimal number 9 is \n",
      "0b1001 in binary\n",
      "0o11 in octal\n",
      "0x9 in hexadecimal\n"
     ]
    }
   ],
   "source": [
    "num=int(input('enter number: '))\n",
    "print(f'The coversion of decimal number {num} is ')\n",
    "print(bin(num),'in binary')\n",
    "print(oct(num),'in octal')\n",
    "print(hex(num),'in hexadecimal')"
   ]
  },
  {
   "cell_type": "markdown",
   "id": "00cf9691",
   "metadata": {},
   "source": [
    "4. Write a Python Program To Find ASCII value of a character?"
   ]
  },
  {
   "cell_type": "code",
   "execution_count": 7,
   "id": "108c7082",
   "metadata": {},
   "outputs": [
    {
     "name": "stdout",
     "output_type": "stream",
     "text": [
      "Enter any character: A\n",
      "ASCII value of A is 65\n"
     ]
    }
   ],
   "source": [
    "char=input('Enter any character: ')\n",
    "print(f'ASCII value of {char} is {ord(char)}')"
   ]
  },
  {
   "cell_type": "markdown",
   "id": "b8c3d0b4",
   "metadata": {},
   "source": [
    "5. Write a Python Program to Make a Simple Calculator with 4 basic mathematical operations?"
   ]
  },
  {
   "cell_type": "code",
   "execution_count": 2,
   "id": "365f4222",
   "metadata": {},
   "outputs": [
    {
     "name": "stdout",
     "output_type": "stream",
     "text": [
      "enter first number: 9\n",
      "enter second number: 8\n",
      "press 1 for addition \n",
      "press 2 for subtraction \n",
      "press 3 for multiplication \n",
      "press 4 for division\n",
      "Enter you choice: 4\n",
      "1.125\n"
     ]
    }
   ],
   "source": [
    "a=float(input('enter first number: '))\n",
    "b=float(input('enter second number: '))\n",
    "print('press 1 for addition \\npress 2 for subtraction \\npress 3 for multiplication \\npress 4 for division')\n",
    "choice=int(input('Enter you choice: '))\n",
    "if choice==1:\n",
    "    print(a+b)\n",
    "elif choice==2:\n",
    "    print(a-b)\n",
    "elif choice==3:\n",
    "    print(a*b)\n",
    "else:\n",
    "    print(a/b)"
   ]
  }
 ],
 "metadata": {
  "kernelspec": {
   "display_name": "Python 3 (ipykernel)",
   "language": "python",
   "name": "python3"
  },
  "language_info": {
   "codemirror_mode": {
    "name": "ipython",
    "version": 3
   },
   "file_extension": ".py",
   "mimetype": "text/x-python",
   "name": "python",
   "nbconvert_exporter": "python",
   "pygments_lexer": "ipython3",
   "version": "3.9.7"
  }
 },
 "nbformat": 4,
 "nbformat_minor": 5
}
