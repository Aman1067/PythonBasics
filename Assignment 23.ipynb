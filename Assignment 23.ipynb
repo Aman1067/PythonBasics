{
 "cells": [
  {
   "cell_type": "markdown",
   "id": "98f4a435",
   "metadata": {},
   "source": [
    "1. What is the result of the code, and why?\n",
    ">>> def func(a, b=6, c=8):\n",
    "\n",
    "print(a, b, c)\n",
    "\n",
    ">>> func(1, 2)"
   ]
  },
  {
   "cell_type": "code",
   "execution_count": 2,
   "id": "eaacec75",
   "metadata": {},
   "outputs": [
    {
     "name": "stdout",
     "output_type": "stream",
     "text": [
      "1 2 8\n"
     ]
    },
    {
     "data": {
      "text/plain": [
       "'When the function func() is called with the arguments func(1, 2), the value 1 is assigned to the parameter a and the value 2 is assigned to the parameter b. However, since the parameter c has a default value of 8, it will retain its default value and not be affected by the arguments passed. Therefore, the output will be 1 2 8, where a is 1, b is 2, and c is 8.'"
      ]
     },
     "execution_count": 2,
     "metadata": {},
     "output_type": "execute_result"
    }
   ],
   "source": [
    "def func(a,b=6,c=8):\n",
    "    print(a,b,c)\n",
    "func(1,2)\n",
    "'''When the function func() is called with the arguments func(1, 2), the value 1 is assigned to the parameter a and the value 2 is assigned to the parameter b. However, since the parameter c has a default value of 8, it will retain its default value and not be affected by the arguments passed. Therefore, the output will be 1 2 8, where a is 1, b is 2, and c is 8.'''"
   ]
  },
  {
   "cell_type": "markdown",
   "id": "406f82ce",
   "metadata": {},
   "source": [
    "2. What is the result of this code, and why?\n",
    ">>> def func(a, b, c=5):\n",
    "\n",
    "print(a, b, c)\n",
    "\n",
    ">>> func(1, c=3, b=2)"
   ]
  },
  {
   "cell_type": "code",
   "execution_count": 4,
   "id": "bcc784fa",
   "metadata": {},
   "outputs": [
    {
     "name": "stdout",
     "output_type": "stream",
     "text": [
      "1 2 3\n"
     ]
    },
    {
     "data": {
      "text/plain": [
       "'When the function func() is called with the arguments func(1, c=3, b=2), the value 1 is assigned to the parameter a and the value 2 is assigned to the parameter b. However, since the parameter c has a value of 3, it will return 3 its value.'"
      ]
     },
     "execution_count": 4,
     "metadata": {},
     "output_type": "execute_result"
    }
   ],
   "source": [
    "def func(a,b,c=5):\n",
    "    print(a,b,c)\n",
    "func(1,c=3,b=2)\n",
    "'''When the function func() is called with the arguments func(1, c=3, b=2), the value 1 is assigned to the parameter a and the value 2 is assigned to the parameter b. However, since the parameter c has a value of 3, it will return 3 its value.'''"
   ]
  },
  {
   "cell_type": "markdown",
   "id": "200634b4",
   "metadata": {},
   "source": [
    "3. How about this code: what is its result, and why?\n",
    ">>> def func(a, *pargs):\n",
    "\n",
    "print(a, pargs)\n",
    "\n",
    ">>> func(1, 2, 3)"
   ]
  },
  {
   "cell_type": "code",
   "execution_count": 6,
   "id": "c433de85",
   "metadata": {},
   "outputs": [
    {
     "name": "stdout",
     "output_type": "stream",
     "text": [
      "1 (2, 3)\n"
     ]
    },
    {
     "data": {
      "text/plain": [
       "'When func(1, 2, 3) is called, the value 1 is assigned to a, and the values 2 and 3 are collected into pargs as a tuple. The output of the print() statement inside the function will be 1 (2, 3), where a is 1, and pargs is a tuple containing the values (2, 3).'"
      ]
     },
     "execution_count": 6,
     "metadata": {},
     "output_type": "execute_result"
    }
   ],
   "source": [
    "def func(a,*pargs):\n",
    "    print(a,pargs)\n",
    "func(1,2,3)\n",
    "'''When func(1, 2, 3) is called, the value 1 is assigned to a, and the values 2 and 3 are collected into pargs as a tuple. The output of the print() statement inside the function will be 1 (2, 3), where a is 1, and pargs is a tuple containing the values (2, 3).'''"
   ]
  },
  {
   "cell_type": "markdown",
   "id": "8fc9565c",
   "metadata": {},
   "source": [
    "4. What does this code print, and why?\n",
    ">>> def func(a, **kargs):\n",
    "\n",
    "print(a, kargs)\n",
    "\n",
    ">>> func(a=1, c=3, b=2)"
   ]
  },
  {
   "cell_type": "code",
   "execution_count": 8,
   "id": "1959d358",
   "metadata": {},
   "outputs": [
    {
     "name": "stdout",
     "output_type": "stream",
     "text": [
      "1 {'c': 3, 'b': 2}\n"
     ]
    },
    {
     "data": {
      "text/plain": [
       "'When func(a=1, c=3, b=2) is called, the value 1 is assigned to a, and the keyword arguments c=3 and b=2 are collected into kargs as a dictionary. The keys of the dictionary are the parameter names (c and b), and their corresponding values are the values passed to the function (3 and 2).'"
      ]
     },
     "execution_count": 8,
     "metadata": {},
     "output_type": "execute_result"
    }
   ],
   "source": [
    "def func(a,**kargs):\n",
    "    print(a,kargs)\n",
    "func(a=1,c=3,b=2)\n",
    "'''When func(a=1, c=3, b=2) is called, the value 1 is assigned to a, and the keyword arguments c=3 and b=2 are collected into kargs as a dictionary. The keys of the dictionary are the parameter names (c and b), and their corresponding values are the values passed to the function (3 and 2).'''"
   ]
  },
  {
   "cell_type": "markdown",
   "id": "73906806",
   "metadata": {},
   "source": [
    "5. What gets printed by this, and explain?\n",
    ">>> def func(a, b, c=8, d=5): print(a, b, c, d)\n",
    "\n",
    ">>> func(1, *(5, 6))"
   ]
  },
  {
   "cell_type": "code",
   "execution_count": 10,
   "id": "ba8dabd9",
   "metadata": {},
   "outputs": [
    {
     "name": "stdout",
     "output_type": "stream",
     "text": [
      "1 5 6 5\n"
     ]
    },
    {
     "data": {
      "text/plain": [
       "'When func(1, *(5, 6)) is called, the value 1 is assigned to a, and the positional arguments (5, 6) are unpacked and assigned to b and c, respectively. The parameter d retains its default value of 5.'"
      ]
     },
     "execution_count": 10,
     "metadata": {},
     "output_type": "execute_result"
    }
   ],
   "source": [
    "def func(a, b, c=8, d=5):\n",
    "    print(a, b, c, d)\n",
    "\n",
    "func(1, *(5, 6))\n",
    "'''When func(1, *(5, 6)) is called, the value 1 is assigned to a, and the positional arguments (5, 6) are unpacked and assigned to b and c, respectively. The parameter d retains its default value of 5.'''"
   ]
  },
  {
   "cell_type": "markdown",
   "id": "aaf39ff3",
   "metadata": {},
   "source": [
    "6. what is the result of this, and explain?\n",
    ">>> def func(a, b, c): a = 2; b[0] = 'x'; c ['a'] = 'y'\n",
    "\n",
    ">>> l=1; m=[1]; n={'a':0}\n",
    "\n",
    ">>> func(l, m, n)\n",
    "\n",
    ">>> l, m, n"
   ]
  },
  {
   "cell_type": "code",
   "execution_count": 12,
   "id": "3a3100ab",
   "metadata": {},
   "outputs": [
    {
     "data": {
      "text/plain": [
       "\"After calling func(l, m, n), the value of l remains unchanged because it is an immutable object (int). The list m is modified within the function, changing its first element from 1 to 'x'. The dictionary n is also modified within the function, changing the value associated with the key 'a' from 0 to 'y'.\""
      ]
     },
     "execution_count": 12,
     "metadata": {},
     "output_type": "execute_result"
    }
   ],
   "source": [
    "def func(a, b, c): \n",
    "    a = 2; b[0] = 'x'; c['a'] = 'y'\n",
    "    \n",
    "l=1; m=[1]; n={'a':0}\n",
    "func(l, m, n)\n",
    "\n",
    "l, m, n\n",
    "'''After calling func(l, m, n), the value of l remains unchanged because it is an immutable object (int). The list m is modified within the function, changing its first element from 1 to 'x'. The dictionary n is also modified within the function, changing the value associated with the key 'a' from 0 to 'y'.'''"
   ]
  }
 ],
 "metadata": {
  "kernelspec": {
   "display_name": "Python 3 (ipykernel)",
   "language": "python",
   "name": "python3"
  },
  "language_info": {
   "codemirror_mode": {
    "name": "ipython",
    "version": 3
   },
   "file_extension": ".py",
   "mimetype": "text/x-python",
   "name": "python",
   "nbconvert_exporter": "python",
   "pygments_lexer": "ipython3",
   "version": "3.9.7"
  }
 },
 "nbformat": 4,
 "nbformat_minor": 5
}
