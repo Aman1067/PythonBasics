{
 "cells": [
  {
   "cell_type": "markdown",
   "id": "98f4a435",
   "metadata": {},
   "source": [
    "1. Write a Python program to find sum of elements in list?"
   ]
  },
  {
   "cell_type": "code",
   "execution_count": 1,
   "id": "c92b4513",
   "metadata": {},
   "outputs": [
    {
     "name": "stdout",
     "output_type": "stream",
     "text": [
      "25\n"
     ]
    }
   ],
   "source": [
    "l=[1,3,5,7,9]\n",
    "a=0\n",
    "for i in l:\n",
    "    a=a+i\n",
    "print(a)"
   ]
  },
  {
   "cell_type": "markdown",
   "id": "fab149eb",
   "metadata": {},
   "source": [
    "2. Write a Python program to Multiply all numbers in the list?"
   ]
  },
  {
   "cell_type": "code",
   "execution_count": 2,
   "id": "10b160ea",
   "metadata": {},
   "outputs": [
    {
     "name": "stdout",
     "output_type": "stream",
     "text": [
      "945\n"
     ]
    }
   ],
   "source": [
    "l=[1,3,5,7,9]\n",
    "a=1\n",
    "for i in l:\n",
    "    a=a*i\n",
    "print(a)"
   ]
  },
  {
   "cell_type": "markdown",
   "id": "684a22f3",
   "metadata": {},
   "source": [
    "3. Write a Python program to find smallest number in a list?"
   ]
  },
  {
   "cell_type": "code",
   "execution_count": 3,
   "id": "831aec9d",
   "metadata": {},
   "outputs": [
    {
     "name": "stdout",
     "output_type": "stream",
     "text": [
      "1\n"
     ]
    }
   ],
   "source": [
    "l=[1,3,5,7,9]\n",
    "for i in l:\n",
    "    smallest=min(l)\n",
    "print(smallest)"
   ]
  },
  {
   "cell_type": "markdown",
   "id": "00cf9691",
   "metadata": {},
   "source": [
    "4. Write a Python program to find largest number in a list?"
   ]
  },
  {
   "cell_type": "code",
   "execution_count": 4,
   "id": "108c7082",
   "metadata": {},
   "outputs": [
    {
     "name": "stdout",
     "output_type": "stream",
     "text": [
      "9\n"
     ]
    }
   ],
   "source": [
    "l=[1,3,5,7,9]\n",
    "for i in l:\n",
    "    largest=max(l)\n",
    "print(largest)"
   ]
  },
  {
   "cell_type": "markdown",
   "id": "b8c3d0b4",
   "metadata": {},
   "source": [
    "5. Write a Python program to find second largest number in a list?"
   ]
  },
  {
   "cell_type": "code",
   "execution_count": 5,
   "id": "365f4222",
   "metadata": {},
   "outputs": [
    {
     "name": "stdout",
     "output_type": "stream",
     "text": [
      "Enter number of elements of your list: 5\n",
      "Enter numbers: 5\n",
      "Enter numbers: 9\n",
      "Enter numbers: 8\n",
      "Enter numbers: 7\n",
      "Enter numbers: 6\n",
      "[5, 9, 8, 7, 6]\n",
      "[5, 6, 7, 8, 9]\n",
      "8\n"
     ]
    }
   ],
   "source": [
    "l=int(input('Enter number of elements of your list: '))\n",
    "a=[]\n",
    "for i in range(l):\n",
    "    b=int(input('Enter numbers: '))\n",
    "    a.append(b)\n",
    "print(a)\n",
    "c=sorted(a)\n",
    "print(c)\n",
    "second_largest=c[-2]\n",
    "print(second_largest)"
   ]
  },
  {
   "cell_type": "markdown",
   "id": "9686cd74",
   "metadata": {},
   "source": [
    "6. Write a Python program to find N largest elements from a list?"
   ]
  },
  {
   "cell_type": "code",
   "execution_count": 6,
   "id": "cde2237e",
   "metadata": {},
   "outputs": [
    {
     "name": "stdout",
     "output_type": "stream",
     "text": [
      "The 3 largest elements in the list are: [45, 41, 31]\n"
     ]
    }
   ],
   "source": [
    "def func(lst, N):\n",
    "    sorted_list = sorted(lst, reverse=True)\n",
    "    return sorted_list[:N]\n",
    "l = [12, 45, 2, 41, 31, 10, 8, 6]\n",
    "N = 3  # Number of largest elements to find\n",
    "\n",
    "largest_elements = func(l, N)\n",
    "print(f\"The {N} largest elements in the list are: {largest_elements}\")\n"
   ]
  },
  {
   "cell_type": "markdown",
   "id": "779dc1a2",
   "metadata": {},
   "source": [
    "7. Write a Python program to print even numbers in a list?"
   ]
  },
  {
   "cell_type": "code",
   "execution_count": 7,
   "id": "51a8632f",
   "metadata": {},
   "outputs": [
    {
     "name": "stdout",
     "output_type": "stream",
     "text": [
      "[2, 4, 6, 8]\n"
     ]
    }
   ],
   "source": [
    "l=[2,3,4,5,6,7,8,9]\n",
    "a=[]\n",
    "for i in l:\n",
    "    if i%2==0:\n",
    "        a.append(i)\n",
    "print(a)"
   ]
  },
  {
   "cell_type": "markdown",
   "id": "88aa9e28",
   "metadata": {},
   "source": [
    "8. Write a Python program to print odd numbers in a List?"
   ]
  },
  {
   "cell_type": "code",
   "execution_count": 8,
   "id": "426bd567",
   "metadata": {},
   "outputs": [
    {
     "name": "stdout",
     "output_type": "stream",
     "text": [
      "[3, 5, 7, 9]\n"
     ]
    }
   ],
   "source": [
    "l=[2,3,4,5,6,7,8,9]\n",
    "a=[]\n",
    "for i in l:\n",
    "    if i%2!=0:\n",
    "        a.append(i)\n",
    "print(a)"
   ]
  },
  {
   "cell_type": "markdown",
   "id": "771e6874",
   "metadata": {},
   "source": [
    "9. Write a Python program to Remove empty List from List?"
   ]
  },
  {
   "cell_type": "code",
   "execution_count": 9,
   "id": "1c936c10",
   "metadata": {},
   "outputs": [
    {
     "name": "stdout",
     "output_type": "stream",
     "text": [
      "[2, 1, 3, 5, 4, 6, 7, 9, 8]\n"
     ]
    }
   ],
   "source": [
    "l=[2,1,3,5,[],4,6,7,9,8,[]]\n",
    "for i in l:\n",
    "    if i==[]:\n",
    "        l.remove(i)\n",
    "print(l)"
   ]
  },
  {
   "cell_type": "markdown",
   "id": "6afee576",
   "metadata": {},
   "source": [
    "10. Write a Python program to Cloning or Copying a list?"
   ]
  },
  {
   "cell_type": "code",
   "execution_count": 10,
   "id": "b2993b47",
   "metadata": {},
   "outputs": [
    {
     "name": "stdout",
     "output_type": "stream",
     "text": [
      "Enter list: 2,3,5,7,9\n",
      "original ['2,3,5,7,9']\n",
      "copied ['2,3,5,7,9']\n"
     ]
    }
   ],
   "source": [
    "org_list=[x for x in input('Enter list: ').split()]\n",
    "clone_list=list(org_list)\n",
    "print(f'original {org_list}')\n",
    "print(f'copied {clone_list}')"
   ]
  },
  {
   "cell_type": "markdown",
   "id": "4f2a72ec",
   "metadata": {},
   "source": [
    "11. Write a Python program to Count occurrences of an element in a list?"
   ]
  },
  {
   "cell_type": "code",
   "execution_count": 11,
   "id": "5c13e957",
   "metadata": {},
   "outputs": [
    {
     "name": "stdout",
     "output_type": "stream",
     "text": [
      "Enter you number from list: 3\n",
      "2\n"
     ]
    }
   ],
   "source": [
    "l=[1,2,3,3,4,4,4,4,2,2,5]\n",
    "n=int(input('Enter you number from list: '))\n",
    "def func(l,n):\n",
    "    return l.count(n)\n",
    "print(func(l,n))\n"
   ]
  },
  {
   "cell_type": "code",
   "execution_count": null,
   "id": "dee1060f",
   "metadata": {},
   "outputs": [],
   "source": []
  }
 ],
 "metadata": {
  "kernelspec": {
   "display_name": "Python 3 (ipykernel)",
   "language": "python",
   "name": "python3"
  },
  "language_info": {
   "codemirror_mode": {
    "name": "ipython",
    "version": 3
   },
   "file_extension": ".py",
   "mimetype": "text/x-python",
   "name": "python",
   "nbconvert_exporter": "python",
   "pygments_lexer": "ipython3",
   "version": "3.9.7"
  }
 },
 "nbformat": 4,
 "nbformat_minor": 5
}
