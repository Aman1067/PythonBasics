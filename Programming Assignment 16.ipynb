{
 "cells": [
  {
   "cell_type": "markdown",
   "id": "98f4a435",
   "metadata": {},
   "source": [
    "1. Write a function that stutters a word as if someone is struggling to read it. The first two letters are repeated twice with an ellipsis ... and space after each, and then the word is pronounced with a question mark ?.\n",
    "Examples\n",
    "stutter(&quot;incredible&quot;) ➞ &quot;in... in... incredible?&quot;\n",
    "stutter(&quot;enthusiastic&quot;) ➞ &quot;en... en... enthusiastic?&quot;\n",
    "stutter(&quot;outstanding&quot;) ➞ &quot;ou... ou... outstanding?&quot;\n",
    "\n",
    "Hint :- Assume all input is in lower case and at least two characters long."
   ]
  },
  {
   "cell_type": "code",
   "execution_count": 20,
   "id": "c92b4513",
   "metadata": {},
   "outputs": [
    {
     "name": "stdout",
     "output_type": "stream",
     "text": [
      "Enter the word:integrate\n",
      "integrate ➞ in... in... integrate?\n",
      "Enter the word:exagerate\n",
      "exagerate ➞ ex... ex... exagerate?\n",
      "Enter the word:marvellous\n",
      "marvellous ➞ ma... ma... marvellous?\n"
     ]
    }
   ],
   "source": [
    "def stutterWord():\n",
    "    in_string = input('Enter the word:')\n",
    "    out_string = in_string.replace(in_string[0:2],((in_string[0:2]+'... ')*2)+ in_string[0:2])  +'?'\n",
    "    print(f'{in_string} ➞ {out_string}')\n",
    "\n",
    "for i in range(3):\n",
    "    stutterWord()"
   ]
  },
  {
   "cell_type": "markdown",
   "id": "fab149eb",
   "metadata": {},
   "source": [
    "2. Create a function that takes an angle in radians and returns the corresponding angle in degrees rounded to one decimal place.\n",
    "Examples\n",
    "radians_to_degrees(1) ➞ 57.3\n",
    "radians_to_degrees(20) ➞ 1145.9\n",
    "radians_to_degrees(50) ➞ 2864.8"
   ]
  },
  {
   "cell_type": "code",
   "execution_count": 21,
   "id": "10b160ea",
   "metadata": {},
   "outputs": [
    {
     "name": "stdout",
     "output_type": "stream",
     "text": [
      "Enter the angle in Radians: 45\n",
      "45 radian(s) ➞ 2578.3 degrees\n",
      "Enter the angle in Radians: 63\n",
      "63 radian(s) ➞ 3609.6 degrees\n",
      "Enter the angle in Radians: 36\n",
      "36 radian(s) ➞ 2062.6 degrees\n"
     ]
    }
   ],
   "source": [
    "import math\n",
    "def radianToDegree():\n",
    "    in_num = int(input('Enter the angle in Radians: '))\n",
    "    out_num = (180/math.pi)*in_num\n",
    "    print(f'{in_num} radian(s) ➞ {out_num:.1f} degrees')\n",
    "\n",
    "for x in range(3):\n",
    "    radianToDegree()"
   ]
  },
  {
   "cell_type": "markdown",
   "id": "684a22f3",
   "metadata": {},
   "source": [
    "3. In this challenge, establish if a given integer num is a Curzon number. If 1 plus 2 elevated to num is exactly divisible by 1 plus 2 multiplied by num, then num is a Curzon number. Given a non-negative integer num, implement a function that returns True if num is a Curzon number, or False otherwise.\n",
    "Examples\n",
    "is_curzon(5) ➞ True\n",
    "\n",
    "2 ** 5 + 1 = 33\n",
    "2 * 5 + 1 = 11\n",
    "33 is a multiple of 11\n",
    "is_curzon(10) ➞ False\n",
    "\n",
    "2 ** 10 + 1 = 1025\n",
    "2 * 10 + 1 = 21\n",
    "1025 is not a multiple of 21\n",
    "is_curzon(14) ➞ True\n",
    "\n",
    "2 ** 14 + 1 = 16385\n",
    "2 * 14 + 1 = 29\n",
    "16385 is a multiple of 29"
   ]
  },
  {
   "cell_type": "code",
   "execution_count": 1,
   "id": "831aec9d",
   "metadata": {},
   "outputs": [
    {
     "name": "stdout",
     "output_type": "stream",
     "text": [
      "Enter a number: 9\n",
      "9 is a curzon number\n",
      "Enter a number: 8\n",
      "8 is not a curzon number\n",
      "Enter a number: 6\n",
      "6 is a curzon number\n"
     ]
    }
   ],
   "source": [
    "def check_curzon():\n",
    "    in_num = int(input('Enter a number: '))\n",
    "    if ((2**in_num)+1)%((2*in_num)+1) == 0:\n",
    "        print(f'{in_num} is a curzon number')\n",
    "    else:\n",
    "        print(f'{in_num} is not a curzon number')\n",
    "\n",
    "for i in range(3):\n",
    "    check_curzon()"
   ]
  },
  {
   "cell_type": "markdown",
   "id": "00cf9691",
   "metadata": {},
   "source": [
    "4. Given the side length x find the area of a hexagon.\n",
    "Examples:\n",
    "area_of_hexagon(1) ➞ 2.6\n",
    "\n",
    "area_of_hexagon(2) ➞ 10.4\n",
    "\n",
    "area_of_hexagon(3) ➞ 23.4"
   ]
  },
  {
   "cell_type": "code",
   "execution_count": 3,
   "id": "108c7082",
   "metadata": {},
   "outputs": [
    {
     "name": "stdout",
     "output_type": "stream",
     "text": [
      "Enter the side length of a Hexagon: 5\n",
      "Area for Hexagon of sidelength 5 ➞ 65.0\n",
      "Enter the side length of a Hexagon: 6\n",
      "Area for Hexagon of sidelength 6 ➞ 93.5\n",
      "Enter the side length of a Hexagon: 7\n",
      "Area for Hexagon of sidelength 7 ➞ 127.3\n"
     ]
    }
   ],
   "source": [
    "import math \n",
    "def area_of_hexagon():\n",
    "    in_num = int(input('Enter the side length of a Hexagon: '))\n",
    "    out_num = ((3*math.sqrt(3)/2))*(pow(in_num,2))\n",
    "    print(f'Area for Hexagon of sidelength {in_num} ➞ {out_num:.1f}')\n",
    "    \n",
    "for i in range(3):\n",
    "    area_of_hexagon()"
   ]
  },
  {
   "cell_type": "markdown",
   "id": "b8c3d0b4",
   "metadata": {},
   "source": [
    "5. Create a function that returns a base-2 (binary) representation of a base-10 (decimal) string number. To convert is simple: ((2) means base-2 and (10) means base-10)010101001(2) = 1 + 8 + 32 + 128. Going from right to left, the value of the most right bit is 1, now from that every bit to the left will be x2 the value, value of an 8 bit binary numbers are (256, 128, 64, 32, 16, 8, 4, 2, 1).\n",
    "Examples\n",
    "binary(1) ➞ \"1\"\n",
    "\n",
    "1*1 = 1\n",
    "binary(5) ➞ \"101\"\n",
    "\n",
    "11 + 14 = 5\n",
    "binary(10) ➞ \"1010\"\n",
    "\n",
    "12 + 18 = 10"
   ]
  },
  {
   "cell_type": "code",
   "execution_count": 4,
   "id": "365f4222",
   "metadata": {},
   "outputs": [
    {
     "name": "stdout",
     "output_type": "stream",
     "text": [
      "Enter a Number:3\n",
      "Binary of 3 ➞ 11\n",
      "Enter a Number:2\n",
      "Binary of 2 ➞ 10\n",
      "Enter a Number:5\n",
      "Binary of 5 ➞ 101\n"
     ]
    }
   ],
   "source": [
    "def get_binary():\n",
    "    in_num = int(input(\"Enter a Number:\"))\n",
    "    out_num = bin(in_num).replace('0b','')\n",
    "    print(f'Binary of {in_num} ➞ {out_num}')\n",
    "\n",
    "for i in range(3):\n",
    "    get_binary()"
   ]
  },
  {
   "cell_type": "code",
   "execution_count": null,
   "id": "dee1060f",
   "metadata": {},
   "outputs": [],
   "source": []
  }
 ],
 "metadata": {
  "kernelspec": {
   "display_name": "Python 3 (ipykernel)",
   "language": "python",
   "name": "python3"
  },
  "language_info": {
   "codemirror_mode": {
    "name": "ipython",
    "version": 3
   },
   "file_extension": ".py",
   "mimetype": "text/x-python",
   "name": "python",
   "nbconvert_exporter": "python",
   "pygments_lexer": "ipython3",
   "version": "3.9.7"
  }
 },
 "nbformat": 4,
 "nbformat_minor": 5
}
