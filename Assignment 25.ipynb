{
 "cells": [
  {
   "cell_type": "markdown",
   "id": "98f4a435",
   "metadata": {},
   "source": [
    "1) . What is the difference between enclosing a list comprehension in square brackets and parentheses?"
   ]
  },
  {
   "cell_type": "markdown",
   "id": "fab149eb",
   "metadata": {},
   "source": [
    "The main difference between a list comprehension enclosed in square brackets and a generator comprehension enclosed in parentheses is that a list comprehension creates a list object with all the values generated immediately, while a generator comprehension creates a generator object that generates the values lazily as they are requested, which can save memory and computation when dealing with large or infinite sequences."
   ]
  },
  {
   "cell_type": "code",
   "execution_count": 14,
   "id": "10b160ea",
   "metadata": {},
   "outputs": [
    {
     "name": "stdout",
     "output_type": "stream",
     "text": [
      "[0, 1, 2, 3, 4]\n"
     ]
    }
   ],
   "source": [
    "numbers = [x for x in range(5)]\n",
    "print(numbers)"
   ]
  },
  {
   "cell_type": "code",
   "execution_count": 15,
   "id": "831aec9d",
   "metadata": {},
   "outputs": [
    {
     "name": "stdout",
     "output_type": "stream",
     "text": [
      "<generator object <genexpr> at 0x00000209C1BC6C10>\n",
      "[0, 1, 2, 3, 4]\n"
     ]
    }
   ],
   "source": [
    "numbers = (x for x in range(5))\n",
    "print(numbers)  \n",
    "print(list(numbers)) \n"
   ]
  },
  {
   "cell_type": "markdown",
   "id": "406f82ce",
   "metadata": {},
   "source": [
    "2) What is the relationship between generators and iterators?"
   ]
  },
  {
   "cell_type": "markdown",
   "id": "c86048d1",
   "metadata": {},
   "source": [
    "Iterators are objects that represent a stream of data or a sequence of values. They provide a consistent way to access the elements of a collection or a sequence, one element at a time. Iterators implement the iterator protocol, which consists of two methods: __iter__() and __next__().\n",
    "\n",
    "Generator functions are defined like regular functions, but instead of using the return statement to return a value, they use the yield statement. When a generator function is called, it returns a generator object, which is an iterator."
   ]
  },
  {
   "cell_type": "markdown",
   "id": "200634b4",
   "metadata": {},
   "source": [
    "3) What are the signs that a function is a generator function?"
   ]
  },
  {
   "cell_type": "markdown",
   "id": "187860b3",
   "metadata": {},
   "source": [
    "A generator function uses a yield statement instead of a return statement. A generator function will always return a iterable object called generator, whereas a normal function can return a string/list/tuple/dict/NoneType etc."
   ]
  },
  {
   "cell_type": "markdown",
   "id": "8fc9565c",
   "metadata": {},
   "source": [
    "4) What is the purpose of a yield statement?"
   ]
  },
  {
   "cell_type": "markdown",
   "id": "2c15ea12",
   "metadata": {},
   "source": [
    "A yield statement looks much like a return statement, except that instead of stopping execution of the function and returning, yield instead provides a value to the code looping over the generator and pauses execution of the generator function."
   ]
  },
  {
   "cell_type": "markdown",
   "id": "73906806",
   "metadata": {},
   "source": [
    "5) What is the relationship between map calls and list comprehensions? Make a comparison and contrast between the two."
   ]
  },
  {
   "cell_type": "markdown",
   "id": "c8c97e04",
   "metadata": {},
   "source": [
    "map calls and list comprehensions both provide ways to transform and process elements of a sequence. Map calls are typically used when applying a function to each element, while list comprehensions offer more flexibility and expressiveness for complex transformations or filtering. List comprehensions directly return a new list, while map calls return a map object that yields values on demand. The choice between them depends on the specific requirements, readability, and performance considerations of the task at hand."
   ]
  }
 ],
 "metadata": {
  "kernelspec": {
   "display_name": "Python 3 (ipykernel)",
   "language": "python",
   "name": "python3"
  },
  "language_info": {
   "codemirror_mode": {
    "name": "ipython",
    "version": 3
   },
   "file_extension": ".py",
   "mimetype": "text/x-python",
   "name": "python",
   "nbconvert_exporter": "python",
   "pygments_lexer": "ipython3",
   "version": "3.9.7"
  }
 },
 "nbformat": 4,
 "nbformat_minor": 5
}
