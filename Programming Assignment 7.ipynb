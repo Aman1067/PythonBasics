{
 "cells": [
  {
   "cell_type": "markdown",
   "id": "98f4a435",
   "metadata": {},
   "source": [
    "1. Write a Python Program to find sum of array?"
   ]
  },
  {
   "cell_type": "code",
   "execution_count": 5,
   "id": "c92b4513",
   "metadata": {},
   "outputs": [
    {
     "name": "stdout",
     "output_type": "stream",
     "text": [
      "Sum of arr is :  24\n"
     ]
    }
   ],
   "source": [
    "sum =0\n",
    "arr = [1,2,3,4,5,9]\n",
    "for i in range(0,len(arr)):\n",
    "    sum=sum+arr[i]\n",
    "print(\"Sum of arr is : \",sum)"
   ]
  },
  {
   "cell_type": "markdown",
   "id": "fab149eb",
   "metadata": {},
   "source": [
    "2. Write a Python Program to find largest element in an array?"
   ]
  },
  {
   "cell_type": "code",
   "execution_count": 14,
   "id": "10b160ea",
   "metadata": {},
   "outputs": [
    {
     "name": "stdout",
     "output_type": "stream",
     "text": [
      "86\n",
      "Largest element in [6, 8, 15, 69, 86, 9] is 86\n"
     ]
    }
   ],
   "source": [
    "a = 0\n",
    "arr = [6,8,15,69,86,9]\n",
    "for i in range(0, len(arr)):\n",
    "    \n",
    "    if a > arr[i]:\n",
    "        print(a)\n",
    "    else:\n",
    "        a = arr[i]\n",
    "\n",
    "print(\"Largest element in {} is {}\".format(arr ,a) )"
   ]
  },
  {
   "cell_type": "markdown",
   "id": "684a22f3",
   "metadata": {},
   "source": [
    "3. Write a Python Program for array rotation?"
   ]
  },
  {
   "cell_type": "code",
   "execution_count": 16,
   "id": "831aec9d",
   "metadata": {},
   "outputs": [
    {
     "name": "stdout",
     "output_type": "stream",
     "text": [
      "9 86 69 15 8 "
     ]
    }
   ],
   "source": [
    "arr = [6,8,15,69,86,9]\n",
    "l = len(arr) -1\n",
    "for i in range(l , 0, -1):\n",
    "    print(arr[i],end=' ')\n",
    "  "
   ]
  },
  {
   "cell_type": "markdown",
   "id": "00cf9691",
   "metadata": {},
   "source": [
    "4. Write a Python Program to Split the array and add the first part to the end?"
   ]
  },
  {
   "cell_type": "code",
   "execution_count": 11,
   "id": "108c7082",
   "metadata": {},
   "outputs": [
    {
     "name": "stdout",
     "output_type": "stream",
     "text": [
      "[3, 6, 9, 15, 18]\n",
      "9 15 18 18 18 "
     ]
    }
   ],
   "source": [
    "def splitArray(arr,n,k):\n",
    "    for i in range(0,k):\n",
    "        x=arr[0]\n",
    "        for j in range(0,n-1):\n",
    "            arr[j]=arr[j+1]\n",
    "arr=[3,6,9,15,18]\n",
    "print(arr)\n",
    "n=len(arr)\n",
    "position=2\n",
    "splitArray(arr,n,position)\n",
    "for i in range(0,n):\n",
    "    print(arr[i],end=' ')"
   ]
  },
  {
   "cell_type": "markdown",
   "id": "b8c3d0b4",
   "metadata": {},
   "source": [
    "5. Write a Python Program to check if given array is Monotonic?"
   ]
  },
  {
   "cell_type": "code",
   "execution_count": 13,
   "id": "365f4222",
   "metadata": {},
   "outputs": [
    {
     "name": "stdout",
     "output_type": "stream",
     "text": [
      "array is monotonic\n"
     ]
    }
   ],
   "source": [
    "def func(arr):\n",
    "    x,y=[],[]\n",
    "    x.extend(arr)\n",
    "    y.extend(arr)\n",
    "    x.sort\n",
    "    y.sort(reverse=True)\n",
    "    if (arr==x or arr==y):\n",
    "        return True\n",
    "    return False\n",
    "arr=[6,8,9,15,24]\n",
    "if func(arr):\n",
    "    print('array is monotonic')\n",
    "else:\n",
    "    print('array is not monotonic')\n",
    "    "
   ]
  }
 ],
 "metadata": {
  "kernelspec": {
   "display_name": "Python 3 (ipykernel)",
   "language": "python",
   "name": "python3"
  },
  "language_info": {
   "codemirror_mode": {
    "name": "ipython",
    "version": 3
   },
   "file_extension": ".py",
   "mimetype": "text/x-python",
   "name": "python",
   "nbconvert_exporter": "python",
   "pygments_lexer": "ipython3",
   "version": "3.9.7"
  }
 },
 "nbformat": 4,
 "nbformat_minor": 5
}
