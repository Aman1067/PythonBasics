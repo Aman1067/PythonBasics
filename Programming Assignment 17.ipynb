{
 "cells": [
  {
   "cell_type": "markdown",
   "id": "98f4a435",
   "metadata": {},
   "source": [
    "1. Create a function that takes three arguments a, b, c and returns the sum of the numbers that are evenly divided by c from the range a, b inclusive.\n",
    "Examples\n",
    "evenly_divisible(1, 10, 20) ➞ 0\n",
    "# No number between 1 and 10 can be evenly divided by 20.\n",
    "evenly_divisible(1, 10, 2) ➞ 30\n",
    "# 2 + 4 + 6 + 8 + 10 = 30\n",
    "evenly_divisible(1, 10, 3) ➞ 18\n",
    "# 3 + 6 + 9 = 18"
   ]
  },
  {
   "cell_type": "code",
   "execution_count": 5,
   "id": "c92b4513",
   "metadata": {},
   "outputs": [
    {
     "name": "stdout",
     "output_type": "stream",
     "text": [
      "(1, 10, 20) ➞ 0\n",
      "(1, 10, 2) ➞ 30\n",
      "(1, 10, 3) ➞ 18\n"
     ]
    }
   ],
   "source": [
    "def evenly_divisible(a,b,c):\n",
    "    divlist = []\n",
    "    for i in range(a,b+1):\n",
    "        if i%c == 0:\n",
    "            divlist.append(i)\n",
    "    print(f'{a,b,c} ➞ {sum(divlist)}')\n",
    "    \n",
    "evenly_divisible(1,10,20)\n",
    "evenly_divisible(1,10,2)\n",
    "evenly_divisible(1,10,3)"
   ]
  },
  {
   "cell_type": "markdown",
   "id": "fab149eb",
   "metadata": {},
   "source": [
    "2. Create a function that returns True if a given inequality expression is correct and\n",
    "False otherwise.\n",
    "Examples\n",
    "correct_signs(&quot;3 &lt; 7 &lt; 11&quot;) ➞ True\n",
    "correct_signs(&quot;13 &gt; 44 &gt; 33 &gt; 1&quot;) ➞ False\n",
    "correct_signs(&quot;1 &lt; 2 &lt; 6 &lt; 9 &gt; 3&quot;) ➞ True"
   ]
  },
  {
   "cell_type": "code",
   "execution_count": 6,
   "id": "10b160ea",
   "metadata": {},
   "outputs": [
    {
     "name": "stdout",
     "output_type": "stream",
     "text": [
      "True\n",
      "False\n",
      "True\n"
     ]
    }
   ],
   "source": [
    "def check_equality(s):\n",
    "    regrex = eval(s)\n",
    "    if regrex :\n",
    "        return True\n",
    "    else:\n",
    "        return False\n",
    "\n",
    "print(check_equality(\"3 < 7 < 11\"))\n",
    "print(check_equality(\"13 > 44 > 33 > 1\"))\n",
    "print(check_equality(\"1 < 2 < 6 < 9 > 3\"))"
   ]
  },
  {
   "cell_type": "markdown",
   "id": "684a22f3",
   "metadata": {},
   "source": [
    "3. Create a function that replaces all the vowels in a string with a specified character.\n",
    "Examples\n",
    "replace_vowels(\"the aardvark\", \"#\") ➞ \"th# ##rdv#rk\"\n",
    "\n",
    "replace_vowels(\"minnie mouse\", \"?\") ➞ \"m?nn?? m??s?\"\n",
    "\n",
    "replace_vowels(\"shakespeare\", \"\") ➞ \"shkspr\""
   ]
  },
  {
   "cell_type": "code",
   "execution_count": 7,
   "id": "831aec9d",
   "metadata": {},
   "outputs": [
    {
     "name": "stdout",
     "output_type": "stream",
     "text": [
      "String: spiderman\n",
      "Enter a replacement character: @\n",
      "After replacing vowels with the specified character: sp@d@rm@n\n",
      "String: harry potter\n",
      "Enter a replacement character: $\n",
      "After replacing vowels with the specified character: h$rry p$tt$r\n",
      "String: sachin\n",
      "Enter a replacement character: !\n",
      "After replacing vowels with the specified character: s!ch!n\n"
     ]
    }
   ],
   "source": [
    "def replace_vowels_with_char(string,char):\n",
    "    vowels = ['a','e','i','o','u','A','E','I','O','U']\n",
    "    for i in vowels:\n",
    "        string = string.replace(i, char)\n",
    "    return string\n",
    "\n",
    "for i in range(3):\n",
    "    string = input(\"String: \")\n",
    "    char = input(\"Enter a replacement character: \")\n",
    "    print(\"After replacing vowels with the specified character:\", replace_vowels_with_char(string,char))"
   ]
  },
  {
   "cell_type": "markdown",
   "id": "00cf9691",
   "metadata": {},
   "source": [
    "4. Write a function that calculates the factorial of a number recursively.\n",
    "Examples\n",
    "factorial(5) ➞ 120\n",
    "\n",
    "factorial(3) ➞ 6\n",
    "\n",
    "factorial(1) ➞ 1\n",
    "\n",
    "factorial(0) ➞ 1"
   ]
  },
  {
   "cell_type": "code",
   "execution_count": 8,
   "id": "108c7082",
   "metadata": {},
   "outputs": [
    {
     "name": "stdout",
     "output_type": "stream",
     "text": [
      "Enter a factorial number:9\n",
      "factorial(n) ➞ 362880\n",
      "Enter a factorial number:8\n",
      "factorial(n) ➞ 40320\n",
      "Enter a factorial number:7\n",
      "factorial(n) ➞ 5040\n",
      "Enter a factorial number:6\n",
      "factorial(n) ➞ 720\n"
     ]
    }
   ],
   "source": [
    "def factorial(n):\n",
    "    if n==0:\n",
    "        return 1\n",
    "    return n*factorial(n-1)\n",
    "\n",
    "for i in range(4):\n",
    "    n = int(input('Enter a factorial number:'))\n",
    "    print(f'factorial(n) ➞ {factorial(n)}')"
   ]
  },
  {
   "cell_type": "markdown",
   "id": "b8c3d0b4",
   "metadata": {},
   "source": [
    "5. Hamming distance is the number of characters that differ between two strings.\n",
    "To illustrate:\n",
    "String1: \"abcbba\"\n",
    "\n",
    "String2: \"abcbda\"\n",
    "\n",
    "Hamming Distance: 1 - \"b\" vs. \"d\" is the only difference.\n",
    "\n",
    "Create a function that computes the hamming distance between two strings.\n",
    "\n",
    "Examples\n",
    "hamming_distance(\"abcde\", \"bcdef\") ➞ 5\n",
    "\n",
    "hamming_distance(\"abcde\", \"abcde\") ➞ 0\n",
    "\n",
    "hamming_distance(\"strong\", \"strung\") ➞ 1"
   ]
  },
  {
   "cell_type": "code",
   "execution_count": 10,
   "id": "365f4222",
   "metadata": {},
   "outputs": [
    {
     "name": "stdout",
     "output_type": "stream",
     "text": [
      "Enter String_1:abcde\n",
      "Enter String_2cdefg\n",
      "Hamming Distance between abcde and cdefg ➞ 5\n",
      "Enter String_1:ghijk\n",
      "Enter String_2ijklm\n",
      "Hamming Distance between ghijk and ijklm ➞ 5\n",
      "Enter String_1:qwerty\n",
      "Enter String_2ertyui\n",
      "Hamming Distance between qwerty and ertyui ➞ 6\n"
     ]
    }
   ],
   "source": [
    "def hamming_distance():\n",
    "    s1 = input('Enter String_1:')\n",
    "    s2 = input('Enter String_2')\n",
    "    if len(s1) == len(s2):\n",
    "        count = 0\n",
    "        for i in range(len(s1)):\n",
    "            if s1[i] != s2[i]:\n",
    "                count = count+1\n",
    "        print(f'Hamming Distance between {s1} and {s2} ➞ {count}')\n",
    "    else:\n",
    "        print('Both String must be of same lenght.')\n",
    "        \n",
    "for i in range(3):\n",
    "    hamming_distance()"
   ]
  },
  {
   "cell_type": "code",
   "execution_count": null,
   "id": "dee1060f",
   "metadata": {},
   "outputs": [],
   "source": []
  }
 ],
 "metadata": {
  "kernelspec": {
   "display_name": "Python 3 (ipykernel)",
   "language": "python",
   "name": "python3"
  },
  "language_info": {
   "codemirror_mode": {
    "name": "ipython",
    "version": 3
   },
   "file_extension": ".py",
   "mimetype": "text/x-python",
   "name": "python",
   "nbconvert_exporter": "python",
   "pygments_lexer": "ipython3",
   "version": "3.9.7"
  }
 },
 "nbformat": 4,
 "nbformat_minor": 5
}
