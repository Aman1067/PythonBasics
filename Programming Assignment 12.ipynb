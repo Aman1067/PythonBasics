{
 "cells": [
  {
   "cell_type": "markdown",
   "id": "98f4a435",
   "metadata": {},
   "source": [
    "1. Write a Python program to find words which are greater than given length k?"
   ]
  },
  {
   "cell_type": "code",
   "execution_count": 1,
   "id": "c92b4513",
   "metadata": {},
   "outputs": [
    {
     "name": "stdout",
     "output_type": "stream",
     "text": [
      "fortune\n"
     ]
    }
   ],
   "source": [
    "def func(a,b):\n",
    "    word = b.split(\" \")\n",
    "    for i in word:\n",
    "        if len(i)>a:\n",
    "            print(i)\n",
    "            \n",
    "a = 5\n",
    "b = \"Befor time not much one gets from fortune\"\n",
    "func(a,b)"
   ]
  },
  {
   "cell_type": "markdown",
   "id": "fab149eb",
   "metadata": {},
   "source": [
    "2. Write a Python program for removing i-th character from a string?"
   ]
  },
  {
   "cell_type": "code",
   "execution_count": 5,
   "id": "10b160ea",
   "metadata": {},
   "outputs": [
    {
     "data": {
      "text/plain": [
       "'spideman'"
      ]
     },
     "execution_count": 5,
     "metadata": {},
     "output_type": "execute_result"
    }
   ],
   "source": [
    "def remove_char(m, n):\n",
    "    a = m[ : n]\n",
    "    b = m[n+1: ]\n",
    "    return a+b\n",
    "remove_char('spiderman',5)"
   ]
  },
  {
   "cell_type": "markdown",
   "id": "684a22f3",
   "metadata": {},
   "source": [
    "3. Write a Python program to split and join a string?"
   ]
  },
  {
   "cell_type": "code",
   "execution_count": 10,
   "id": "831aec9d",
   "metadata": {},
   "outputs": [
    {
     "name": "stdout",
     "output_type": "stream",
     "text": [
      "Enter the string: spiderman superman batman\n",
      "Split String: ['spiderman', 'superman', 'batman']\n",
      "Join String: spiderman superman batman\n"
     ]
    }
   ],
   "source": [
    "a = input('Enter the string: ')\n",
    "print(f\"Split String: {a.split(' ')}\")\n",
    "print(f\"Join String: {' '.join(a.split(' '))}\")"
   ]
  },
  {
   "cell_type": "markdown",
   "id": "00cf9691",
   "metadata": {},
   "source": [
    "4. Write a Python to check if a given string is binary string or not?"
   ]
  },
  {
   "cell_type": "code",
   "execution_count": 11,
   "id": "108c7082",
   "metadata": {},
   "outputs": [
    {
     "name": "stdout",
     "output_type": "stream",
     "text": [
      "Binary String\n",
      "Non Binary String\n"
     ]
    }
   ],
   "source": [
    "def func1(string):\n",
    "    b = set(string)\n",
    "    s = {'0','1'}\n",
    "    if s == b or b == {'0'} or b == {'1'}:\n",
    "        print(\"Binary String\")\n",
    "    else:\n",
    "        print(\"Non Binary String\")\n",
    "        \n",
    "s1 = \"00100110\"\n",
    "func1(s1)\n",
    "s2 = \"001020012\"\n",
    "func1(s2)"
   ]
  },
  {
   "cell_type": "markdown",
   "id": "b8c3d0b4",
   "metadata": {},
   "source": [
    "5. Write a Python program to find uncommon words from two Strings?"
   ]
  },
  {
   "cell_type": "code",
   "execution_count": 13,
   "id": "365f4222",
   "metadata": {},
   "outputs": [
    {
     "name": "stdout",
     "output_type": "stream",
     "text": [
      "['jobs', 'ineuron']\n"
     ]
    }
   ],
   "source": [
    "def func2(s1,s2):\n",
    "  s1=s1.split()\n",
    "  s2=s2.split()\n",
    "  k=set(s1).symmetric_difference(set(s2))\n",
    "  return k\n",
    "\n",
    "a = \"ineuron data science\"\n",
    "b = \"data science jobs\"\n",
    "print(list(func2(a,b)))"
   ]
  },
  {
   "cell_type": "markdown",
   "id": "9686cd74",
   "metadata": {},
   "source": [
    "6. Write a Python program to find all duplicate characters in string?"
   ]
  },
  {
   "cell_type": "code",
   "execution_count": 22,
   "id": "cde2237e",
   "metadata": {},
   "outputs": [
    {
     "name": "stdout",
     "output_type": "stream",
     "text": [
      "y r o d "
     ]
    }
   ],
   "source": [
    "from collections import Counter\n",
    "def find_dup_char(input):\n",
    "    WC = Counter(input)\n",
    "    j=-1\n",
    "    for i in WC.values():\n",
    "        j=j+1\n",
    "        if (i>1):\n",
    "            print(list(WC.keys())[j],end=' ')\n",
    "input = \"yrtyewyoopraddfr\"\n",
    "find_dup_char(input)"
   ]
  },
  {
   "cell_type": "markdown",
   "id": "779dc1a2",
   "metadata": {},
   "source": [
    "7. Write a Python Program to check if a string contains any special character?"
   ]
  },
  {
   "cell_type": "code",
   "execution_count": 23,
   "id": "51a8632f",
   "metadata": {},
   "outputs": [
    {
     "name": "stdout",
     "output_type": "stream",
     "text": [
      "String contains special characters.\n"
     ]
    }
   ],
   "source": [
    "import re\n",
    "string = 'Some codes contain errors at @this position'\n",
    "spl_chars =re.compile('[@_!#$%^&*()<>?/\\|}{~:]')\n",
    "if (spl_chars.search(string) == None):\n",
    "    print('String does not contain any special characters.')\n",
    "else:\n",
    "    print('String contains special characters.')"
   ]
  },
  {
   "cell_type": "code",
   "execution_count": null,
   "id": "dee1060f",
   "metadata": {},
   "outputs": [],
   "source": []
  }
 ],
 "metadata": {
  "kernelspec": {
   "display_name": "Python 3 (ipykernel)",
   "language": "python",
   "name": "python3"
  },
  "language_info": {
   "codemirror_mode": {
    "name": "ipython",
    "version": 3
   },
   "file_extension": ".py",
   "mimetype": "text/x-python",
   "name": "python",
   "nbconvert_exporter": "python",
   "pygments_lexer": "ipython3",
   "version": "3.9.7"
  }
 },
 "nbformat": 4,
 "nbformat_minor": 5
}
