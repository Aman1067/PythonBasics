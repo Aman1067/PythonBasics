{
 "cells": [
  {
   "cell_type": "markdown",
   "id": "98f4a435",
   "metadata": {},
   "source": [
    "1. What is the relationship between def statements and lambda expressions ?"
   ]
  },
  {
   "cell_type": "markdown",
   "id": "0bd5f8e7",
   "metadata": {},
   "source": [
    "def statement is used to create a normal function whereas lambda expressions are used to create anonymous functions which can be assigned to a variable and can be called using the variable later in function.\n",
    "\n",
    "Lambda's body is a single expression and not a block of statements like def statement. The lambda expression's body is similar to what we wouldd put in a def body's return statement. We simply type the result as an expression instead of explicitly returning it. Because it is limited to an expression, a lambda is less general than a def statement."
   ]
  },
  {
   "cell_type": "markdown",
   "id": "406f82ce",
   "metadata": {},
   "source": [
    "2. What is the benefit of lambda?"
   ]
  },
  {
   "cell_type": "markdown",
   "id": "a4d73435",
   "metadata": {},
   "source": [
    "Lambda functions can simplify code by eliminating the need for defining a separate function for a simple operation. Since lambda functions are anonymous and don't require a name, they are not stored in memory like named functions. This can be beneficial in scenarios where creating multiple small functions is necessary, as it reduces memory usage."
   ]
  },
  {
   "cell_type": "markdown",
   "id": "200634b4",
   "metadata": {},
   "source": [
    "3. Compare and contrast map, filter, and reduce."
   ]
  },
  {
   "cell_type": "markdown",
   "id": "6953f33e",
   "metadata": {},
   "source": [
    "Map: Applies a given function to each element of a sequence and returns a new sequence with the transformed values.\n",
    "Filter: Applies a given function to each element of a sequence and returns a new sequence containing only the elements for which the function returns True.\n",
    "Reduce: Applies a given function to the elements of a sequence in a cumulative way, reducing the sequence to a single value."
   ]
  },
  {
   "cell_type": "markdown",
   "id": "8fc9565c",
   "metadata": {},
   "source": [
    "4. What are function annotations, and how are they used?"
   ]
  },
  {
   "cell_type": "markdown",
   "id": "9f91bdaa",
   "metadata": {},
   "source": [
    "Function annotations in Python are a way to associate metadata or type hints with the parameters and return values of functions. \n",
    "They provide a way to add additional information to function signatures without affecting the runtime behavior of the function.\n",
    "\n",
    "Function annotations are expressed using colons (:) after the parameter or return value, followed by the annotation itself.\n",
    "Here's an example:"
   ]
  },
  {
   "cell_type": "code",
   "execution_count": null,
   "id": "5b4684c3",
   "metadata": {},
   "outputs": [],
   "source": [
    "def add(x: int, y: int) -> int:\n",
    "    return x + y"
   ]
  },
  {
   "cell_type": "markdown",
   "id": "73906806",
   "metadata": {},
   "source": [
    "5. What are recursive functions, and how are they used?"
   ]
  },
  {
   "cell_type": "markdown",
   "id": "5738182c",
   "metadata": {},
   "source": [
    "Recursive functions are functions that call themselves, either directly or indirectly, to solve a problem by breaking it down into smaller subproblems. The concept of recursion is based on the principle of solving a problem by reducing it to a simpler or base case.\n",
    "Here's an example of a recursive function that calculates the factorial of a number:"
   ]
  },
  {
   "cell_type": "code",
   "execution_count": 13,
   "id": "fef34b4c",
   "metadata": {},
   "outputs": [],
   "source": [
    "def factorial(n):\n",
    "    if n == 0:\n",
    "        return 1\n",
    "    else:\n",
    "        return n * factorial(n - 1)"
   ]
  },
  {
   "cell_type": "markdown",
   "id": "aaf39ff3",
   "metadata": {},
   "source": [
    "6. What are some general design guidelines for coding functions?"
   ]
  },
  {
   "cell_type": "markdown",
   "id": "3dc57a19",
   "metadata": {},
   "source": [
    "1.Use 4-space indentation and no tabs.\n",
    "\n",
    "2.Use docstrings\n",
    "\n",
    "3.Wrap linethat they don’t exceed 79 characters\n",
    "\n",
    "4.Use of regular and updated comments are valuable to both the coders and users\n",
    "\n",
    "5.Use of trailing commas : in case of tuple -> ('good',)\n",
    "\n",
    "6.Use Python’s default UTF-8 or ASCII encodings and not any fancy encodings"
   ]
  },
  {
   "cell_type": "markdown",
   "id": "5c53e53a",
   "metadata": {},
   "source": [
    "7. Name three or more ways that functions can communicate results to a caller."
   ]
  },
  {
   "cell_type": "markdown",
   "id": "e57b713b",
   "metadata": {},
   "source": [
    "Return Statement: Functions can use the return statement to send a value or a set of values back to the caller. The return statement terminates the function execution and passes the specified value(s) as the result.\n",
    "\n",
    "Output Parameters: Functions can modify the values of mutable objects that are passed as arguments, allowing the function to communicate results indirectly through these objects. By modifying the mutable object within the function, the changes can be observed by the caller.\n",
    "\n",
    "Exceptions: Functions can raise exceptions to communicate errors or exceptional conditions to the caller. Exceptions allow for structured error handling and can provide detailed information about the encountered problem."
   ]
  }
 ],
 "metadata": {
  "kernelspec": {
   "display_name": "Python 3 (ipykernel)",
   "language": "python",
   "name": "python3"
  },
  "language_info": {
   "codemirror_mode": {
    "name": "ipython",
    "version": 3
   },
   "file_extension": ".py",
   "mimetype": "text/x-python",
   "name": "python",
   "nbconvert_exporter": "python",
   "pygments_lexer": "ipython3",
   "version": "3.9.7"
  }
 },
 "nbformat": 4,
 "nbformat_minor": 5
}
