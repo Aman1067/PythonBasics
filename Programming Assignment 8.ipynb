{
 "cells": [
  {
   "cell_type": "markdown",
   "id": "98f4a435",
   "metadata": {},
   "source": [
    "1. Write a Python Program to Add Two Matrices?"
   ]
  },
  {
   "cell_type": "code",
   "execution_count": 2,
   "id": "c92b4513",
   "metadata": {},
   "outputs": [
    {
     "name": "stdout",
     "output_type": "stream",
     "text": [
      "[9, 8, 7]\n",
      "[7, 10, 13]\n",
      "[9, 12, 11]\n"
     ]
    }
   ],
   "source": [
    "X = [[2,3,4],[5,6,7],[8,9,6]]\n",
    "Y = [[7,5,3],[2,4,6],[1,3,5]]\n",
    "result = [[0,0,0],[0,0,0],[0,0,0]]\n",
    "for i in range(len(X)):\n",
    "    for j in range(len(X[0])):\n",
    "        result[i][j] = X[i][j] + Y[i][j]\n",
    "for r in result:\n",
    "    print(r)"
   ]
  },
  {
   "cell_type": "markdown",
   "id": "fab149eb",
   "metadata": {},
   "source": [
    "2. Write a Python Program to Multiply Two Matrices?"
   ]
  },
  {
   "cell_type": "code",
   "execution_count": 3,
   "id": "10b160ea",
   "metadata": {},
   "outputs": [
    {
     "name": "stdout",
     "output_type": "stream",
     "text": [
      "[24, 34, 44]\n",
      "[54, 70, 86]\n",
      "[80, 94, 108]\n"
     ]
    }
   ],
   "source": [
    "X = [[2,3,4],[5,6,7],[8,9,6]]\n",
    "Y = [[7,5,3],[2,4,6],[1,3,5]]\n",
    "result = [[0,0,0],[0,0,0],[0,0,0]]\n",
    "for i in range(len(X)):\n",
    "    for j in range(len(Y[0])):\n",
    "                   for k in range(len(Y)):\n",
    "                         result[i][j] += X[i][k] * Y[k][j]\n",
    "for r in result:\n",
    "    print(r)"
   ]
  },
  {
   "cell_type": "markdown",
   "id": "684a22f3",
   "metadata": {},
   "source": [
    "3. Write a Python Program to Transpose a Matrix?"
   ]
  },
  {
   "cell_type": "code",
   "execution_count": 5,
   "id": "831aec9d",
   "metadata": {},
   "outputs": [
    {
     "name": "stdout",
     "output_type": "stream",
     "text": [
      "[2, 5, 8]\n",
      "[3, 6, 9]\n"
     ]
    }
   ],
   "source": [
    "X = [[2,3],[5,6],[8,9]]\n",
    "result = [[0,0,0],[0,0,0]]\n",
    "for i in range(len(X)):\n",
    "    for j in range(len(X[0])):\n",
    "        result[j][i] = X[i][j]\n",
    "for r in result:\n",
    "    print(r)"
   ]
  },
  {
   "cell_type": "markdown",
   "id": "00cf9691",
   "metadata": {},
   "source": [
    "4. Write a Python Program to Sort Words in Alphabetic Order?"
   ]
  },
  {
   "cell_type": "code",
   "execution_count": 10,
   "id": "108c7082",
   "metadata": {},
   "outputs": [
    {
     "name": "stdout",
     "output_type": "stream",
     "text": [
      "Enter any word: The amazing Spiderman\n",
      "['amazing', 'spiderman', 'the']\n"
     ]
    }
   ],
   "source": [
    "a=input('Enter any word: ')\n",
    "b=a.split()\n",
    "#print(b)\n",
    "for i in range(len(b)):\n",
    "    b[i]=b[i].lower()\n",
    "#print(b)\n",
    "b.sort()\n",
    "print(b)"
   ]
  },
  {
   "cell_type": "markdown",
   "id": "b8c3d0b4",
   "metadata": {},
   "source": [
    "5. Write a Python Program to Remove Punctuation From a String?"
   ]
  },
  {
   "cell_type": "code",
   "execution_count": 11,
   "id": "365f4222",
   "metadata": {},
   "outputs": [
    {
     "name": "stdout",
     "output_type": "stream",
     "text": [
      "enter value: Hey! its working fine now.\n",
      "Hey its working fine now\n"
     ]
    }
   ],
   "source": [
    "punc='''!@#$%^&*()\"'|\\?/><~`{}[],.-_;:'''\n",
    "a=input('enter value: ')\n",
    "b=\"\"\n",
    "for i in a:\n",
    "    if i not in punc:\n",
    "        b+=i\n",
    "print(b)"
   ]
  }
 ],
 "metadata": {
  "kernelspec": {
   "display_name": "Python 3 (ipykernel)",
   "language": "python",
   "name": "python3"
  },
  "language_info": {
   "codemirror_mode": {
    "name": "ipython",
    "version": 3
   },
   "file_extension": ".py",
   "mimetype": "text/x-python",
   "name": "python",
   "nbconvert_exporter": "python",
   "pygments_lexer": "ipython3",
   "version": "3.9.7"
  }
 },
 "nbformat": 4,
 "nbformat_minor": 5
}
